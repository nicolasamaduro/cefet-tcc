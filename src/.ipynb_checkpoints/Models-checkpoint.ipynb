{
 "cells": [
  {
   "cell_type": "code",
   "execution_count": null,
   "metadata": {},
   "outputs": [],
   "source": [
    "import numpy as np\n",
    "import pandas as pd\n",
    "import matplotlib.pyplot as plt \n",
    "from sklearn import preprocessing\n",
    "from sklearn.neural_network import MLPClassifier\n",
    "from sklearn.model_selection import train_test_split\n",
    "from matplotlib.colors import ListedColormap\n",
    "from sklearn.linear_model import LogisticRegression\n",
    "from sklearn.ensemble import RandomForestClassifier\n",
    "from sklearn.svm import LinearSVC\n",
    "from sklearn.naive_bayes import GaussianNB\n",
    "\n",
    "pd.set_option('display.max_columns', 100)"
   ]
  },
  {
   "cell_type": "code",
   "execution_count": null,
   "metadata": {},
   "outputs": [],
   "source": [
    "partidas = pd.read_csv('../data/dados_limpos.csv')\n",
    "partidas.head()"
   ]
  },
  {
   "cell_type": "code",
   "execution_count": null,
   "metadata": {},
   "outputs": [],
   "source": [
    "partidas.shape"
   ]
  },
  {
   "cell_type": "code",
   "execution_count": null,
   "metadata": {},
   "outputs": [],
   "source": [
    "def fazNormalizacao(partidas):\n",
    "    partidas_normalizadas = preprocessing.MaxAbsScaler().fit_transform(partidas)\n",
    "    return pd.DataFrame(partidas_normalizadas, columns = partidas.columns)"
   ]
  },
  {
   "cell_type": "code",
   "execution_count": null,
   "metadata": {},
   "outputs": [],
   "source": [
    "def realizaSorteioDosDados(treino, teste):    \n",
    "    return train_test_split(treino, teste, test_size=0.3)\n",
    "\n",
    "def separaCarasteristicasEClasse(partidas):\n",
    "    caracteristicas = partidas[partidas.columns.difference(['resultado'])]\n",
    "    classe = partidas['resultado']\n",
    "    return caracteristicas, classe"
   ]
  },
  {
   "cell_type": "code",
   "execution_count": null,
   "metadata": {},
   "outputs": [],
   "source": [
    "def classificadorGenerico(modelo, caracteristicasTreino, caracteristicasTeste, classeTreino, classeTeste):\n",
    "    modelo.fit(caracteristicasTreino, classeTreino)   \n",
    "    print (\"Acurácia = \" + str(round(modelo.score(caracteristicasTeste,classeTeste), 4)))\n",
    "\n",
    "def classificadorMLP(caracteristicasTreino, caracteristicasTeste, classeTreino, classeTeste):\n",
    "    clf = MLPClassifier(solver='adam',activation= 'identity', alpha=1e-5, hidden_layer_sizes=(5), random_state=1)\n",
    "    print(\"RNA\")\n",
    "    classificadorGenerico(clf, caracteristicasTreino, caracteristicasTeste, classeTreino, classeTeste)\n",
    "    \n",
    "def classificadorRandonForest(caracteristicasTreino, caracteristicasTeste, classeTreino, classeTeste):\n",
    "    RF = RandomForestClassifier(n_estimators=100, max_depth=2, random_state=0)\n",
    "    print(\"Randon Forest\")\n",
    "    classificadorGenerico(RF, caracteristicasTreino, caracteristicasTeste, classeTreino, classeTeste)\n",
    "\n",
    "def classificadorSVM(caracteristicasTreino, caracteristicasTeste, classeTreino, classeTeste):\n",
    "    SVM = LinearSVC(multi_class='crammer_singer')\n",
    "    print(\"SVM\")\n",
    "    classificadorGenerico(SVM, caracteristicasTreino, caracteristicasTeste, classeTreino, classeTeste)\n",
    "    \n",
    "def classificadorNaiveBayes(caracteristicasTreino, caracteristicasTeste, classeTreino, classeTeste):\n",
    "    NB = GaussianNB()\n",
    "    print(\"NB\")\n",
    "    classificadorGenerico(NB, caracteristicasTreino, caracteristicasTeste, classeTreino, classeTeste)"
   ]
  },
  {
   "cell_type": "code",
   "execution_count": null,
   "metadata": {},
   "outputs": [],
   "source": [
    "normalizar = True\n",
    "\n",
    "caracteristicas, classe = separaCarasteristicasEClasse(partidas)\n",
    "if (normalizar):\n",
    "    caracteristicas = fazNormalizacao(caracteristicas)\n",
    "caracteristicasTreino, caracteristicasTeste, classeTreino, classeTeste = realizaSorteioDosDados(caracteristicas, classe)\n",
    "\n",
    "classificadorMLP(caracteristicasTreino, caracteristicasTeste, classeTreino, classeTeste)\n",
    "#classificadorRandonForest(caracteristicasTreino, caracteristicasTeste, classeTreino, classeTeste)\n",
    "#classificadorSVM(caracteristicasTreino, caracteristicasTeste, classeTreino, classeTeste)\n",
    "#classificadorNaiveBayes(caracteristicasTreino, caracteristicasTeste, classeTreino, classeTeste)"
   ]
  },
  {
   "cell_type": "code",
   "execution_count": null,
   "metadata": {
    "scrolled": true
   },
   "outputs": [],
   "source": []
  },
  {
   "cell_type": "code",
   "execution_count": null,
   "metadata": {},
   "outputs": [],
   "source": []
  }
 ],
 "metadata": {
  "kernelspec": {
   "display_name": "Python 3",
   "language": "python",
   "name": "python3"
  },
  "language_info": {
   "codemirror_mode": {
    "name": "ipython",
    "version": 3
   },
   "file_extension": ".py",
   "mimetype": "text/x-python",
   "name": "python",
   "nbconvert_exporter": "python",
   "pygments_lexer": "ipython3",
   "version": "3.7.1"
  }
 },
 "nbformat": 4,
 "nbformat_minor": 2
}
